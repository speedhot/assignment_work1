{
 "cells": [
  {
   "cell_type": "markdown",
   "metadata": {},
   "source": [
    "# 1.1 Write a Python Program to implement your own myreduce() function which works exactly like Python's built-in function reduce()"
   ]
  },
  {
   "cell_type": "code",
   "execution_count": 2,
   "metadata": {},
   "outputs": [
    {
     "name": "stdout",
     "output_type": "stream",
     "text": [
      "sum by reduce= 21\n",
      "reduce taking function: 21\n"
     ]
    }
   ],
   "source": [
    "#python reduce()\n",
    "import functools\n",
    "l=[1,2,3,4,5,6,]\n",
    "sum=functools.reduce(lambda x,y:x+y, l)\n",
    "print(\"sum by reduce=\",sum)\n",
    "\n",
    "\n",
    "#reduce() taking function rather lambda\n",
    "def add_list(a,b):\n",
    "    return a+b\n",
    "sum=functools.reduce(add_list,l)\n",
    "print(\"reduce taking function:\",sum)\n"
   ]
  },
  {
   "cell_type": "code",
   "execution_count": 3,
   "metadata": {},
   "outputs": [
    {
     "name": "stdout",
     "output_type": "stream",
     "text": [
      "sum= 21\n"
     ]
    }
   ],
   "source": [
    "#mannual solution\n",
    "def myreduce(l):\n",
    "    sum=0\n",
    "    for element in l:\n",
    "        sum=sum+element\n",
    "    return sum\n",
    "\n",
    "\n",
    "print(\"sum=\",myreduce(l))\n",
    "    "
   ]
  },
  {
   "cell_type": "markdown",
   "metadata": {},
   "source": [
    "# 1.2 Write a Python program to implement your own myfilter() function which works exactly like Python's built-in function filter()\n"
   ]
  },
  {
   "cell_type": "code",
   "execution_count": 10,
   "metadata": {},
   "outputs": [
    {
     "ename": "SyntaxError",
     "evalue": "invalid syntax (<ipython-input-10-33cbe581d7f4>, line 2)",
     "output_type": "error",
     "traceback": [
      "\u001b[1;36m  File \u001b[1;32m\"<ipython-input-10-33cbe581d7f4>\"\u001b[1;36m, line \u001b[1;32m2\u001b[0m\n\u001b[1;33m    s=filter([x] in lambda x: x if x>y else y,l)\u001b[0m\n\u001b[1;37m                         ^\u001b[0m\n\u001b[1;31mSyntaxError\u001b[0m\u001b[1;31m:\u001b[0m invalid syntax\n"
     ]
    }
   ],
   "source": [
    "#solution by filter() \n",
    "s=filter([x] in lambda x: x if x>y else y,l)\n",
    "print(s)"
   ]
  },
  {
   "cell_type": "code",
   "execution_count": 14,
   "metadata": {},
   "outputs": [
    {
     "name": "stdout",
     "output_type": "stream",
     "text": [
      "5\n",
      "1\n",
      "1\n"
     ]
    },
    {
     "data": {
      "text/plain": [
       "[2, 4]"
      ]
     },
     "execution_count": 14,
     "metadata": {},
     "output_type": "execute_result"
    }
   ],
   "source": [
    "#solution mannual\n",
    "def myfilter(l):\n",
    "    #for item in l:\n",
    "        return max(l)\n",
    "l=[1,2,3,4,5]\n",
    "print(myfilter(l))\n",
    "\n",
    "#finding minimum\n",
    "def myfilter1(l):\n",
    "    return min(l)\n",
    "print(myfilter1(l))\n",
    "\n",
    "#mannual minimum---filter minimum\n",
    "\n",
    "def manuual_min_filter(l):\n",
    "    min=100000\n",
    "    temp=0\n",
    "    for item in l:\n",
    "        temp=item\n",
    "        if temp<=min:\n",
    "            min=temp\n",
    "    return min\n",
    "print(manuual_min_filter(l))\n",
    "        \n",
    "\n",
    "#filtering even from a list\n",
    "def find_even(l):\n",
    "    even=[]\n",
    "    for item in l:\n",
    "        if item % 2== 0:\n",
    "            even.append(item)\n",
    "    return even\n",
    "\n",
    "find_even(l)\n",
    "        "
   ]
  },
  {
   "cell_type": "markdown",
   "metadata": {},
   "source": [
    "## 2. Implement List comprehensions to produce the following lists."
   ]
  },
  {
   "cell_type": "code",
   "execution_count": 5,
   "metadata": {},
   "outputs": [
    {
     "name": "stdout",
     "output_type": "stream",
     "text": [
      "Mannual\n",
      "['A', 'C', 'A', 'D', 'G', 'I', 'L', 'D']\n",
      "Comprehension\n",
      "['A', 'C', 'A', 'D', 'G', 'I', 'L', 'D']\n",
      "Mannual\n",
      "['x', 'xx', 'xxx', 'xxxx', 'y', 'yy', 'yyy', 'yyyy', 'z', 'zz', 'zzz', 'zzzz']\n",
      "Comprehension\n",
      "['x', 'xx', 'xxx', 'xxxx', 'y', 'yy', 'yyy', 'yyyy', 'z', 'zz', 'zzz', 'zzzz']\n",
      "Mnnaual\n",
      "['x', 'y', 'z', 'xx', 'yy', 'zz', 'xxx', 'yyy', 'zzz', 'xxxx', 'yyyy', 'zzzz']\n",
      "Comprehension\n",
      "['x', 'y', 'z', 'xx', 'yy', 'zz', 'xxx', 'yyy', 'zzz', 'xxxx', 'yyyy', 'zzzz']\n",
      "Mannual\n",
      "[[2], [3], [4], [3], [4], [5], [4], [5], [6]]\n",
      "Mannual\n",
      "[[2, 3, 4, 5], [3, 4, 5, 6], [4, 5, 6, 7], [5, 6, 7, 8]]\n",
      "Comprehension need to be discuss\n",
      "[<function <genexpr>.<lambda> at 0x0000000004FB3EA0>, <function <genexpr>.<lambda> at 0x0000000004FB3BF8>, <function <genexpr>.<lambda> at 0x0000000004FB3B70>, <function <genexpr>.<lambda> at 0x0000000004FB3D90>]\n",
      "Mannual\n",
      "[(1, 1), (2, 1), (3, 1), (1, 2), (2, 2), (3, 2), (1, 3), (2, 3), (3, 3)]\n",
      "Comprehension\n",
      "[(1, 1), (2, 1), (3, 1), (1, 2), (2, 2), (3, 2), (1, 3), (2, 3), (3, 3)]\n"
     ]
    }
   ],
   "source": [
    "#1. ['A', 'C', 'A', 'D', 'G', 'I', ’L’, ‘ D’]\n",
    "\n",
    "#mannual\n",
    "print(\"Mannual\")\n",
    "string=\"ACADGILD\"\n",
    "s=[]\n",
    "for i in string:\n",
    "    s.append(i)\n",
    "print(s)\n",
    "\n",
    "print(\"Comprehension\")\n",
    "#comperihension\n",
    "print([s for s in string])\n",
    "\n",
    "#2. ['x', 'xx', 'xxx', 'xxxx', 'y', 'yy', 'yyy', 'yyyy', 'z', 'zz', 'zzz', 'zzzz']\n",
    "#the mannual method\n",
    "print(\"Mannual\")\n",
    "s='xyz'\n",
    "l1=[]\n",
    "for x in s:\n",
    "    for i in range(1,5):\n",
    "        l1.append(x*i)\n",
    "print(l1)\n",
    "\n",
    "\n",
    "#comprehension\n",
    "print(\"Comprehension\")\n",
    "print(list(x*i for x in 'xyz' for i in range(1,5)))\n",
    "\n",
    "#3. ['x', 'y', 'z', 'xx', 'yy', 'zz', 'xxx', 'yyy', 'zzz', 'xxxx', 'yyyy', 'zzzz']\n",
    "print(\"Mnnaual\")\n",
    "s='xyz'\n",
    "l2=[]\n",
    "for item in s:\n",
    "    for i in range(1,5):\n",
    "        [l2.append(item*i)]\n",
    "            \n",
    "print(sorted(l2, key=len)) # sort list according to length\n",
    "\n",
    "#comprehension\n",
    "\n",
    "print(\"Comprehension\")\n",
    "\n",
    "print(sorted([x*i for x in s for i in range(1,5)], key=len))\n",
    "\n",
    "\n",
    "# 4. [[2], [3], [4], [3], [4], [5], [4], [5], [6]]\n",
    "#mannual\n",
    "print(\"Mannual\")\n",
    "l4=[]\n",
    "for i in range(2,7):\n",
    "    if i==5:\n",
    "        [l4.append([i-2])]+[l4.append([i-1])]+[(l4.append([i]))]\n",
    "    elif i==6:\n",
    "        [l4.append([i-2])]+[l4.append([i-1])]+[(l4.append([i]))]\n",
    "    else:\n",
    "        l4.append([i])\n",
    "print(l4)\n",
    "\n",
    "# #cpmprehension\n",
    "# print(\"Comprehension\")\n",
    "# print(list( ifor i in range(2,7)))\n",
    "\n",
    "#5. [[2, 3, 4, 5], [3, 4, 5, 6], [4, 5, 6, 7], [5, 6, 7, 8]]\n",
    "print(\"Mannual\")\n",
    "l4=[]\n",
    "l5=[]\n",
    "for i in range(2,9):\n",
    "    \n",
    "    if i==2 or i<=5:\n",
    "        l4.append(i)\n",
    "        l3=[l4]   \n",
    "    elif i==6 or i==7 or i==8 or i==9:\n",
    "        l5=[[i-3]+[i-2]+[i-1]+[i]]\n",
    "        \n",
    "    l3=l3+l5\n",
    "\n",
    "print(l3)\n",
    "print(\"Comprehension need to be discuss\")\n",
    "print(list(lambda i,j:i+j for i in range(1,3) for j in range(1,3)))\n",
    "\n",
    "#[(1, 1), (2, 1), (3, 1), (1, 2), (2, 2), (3, 2), (1, 3), (2, 3), (3, 3)]\n",
    "print(\"Mannual\")\n",
    "l6=[]\n",
    "for i in range(1,4):\n",
    "    for j in range(1,4):\n",
    "        l6.append((j,i))\n",
    "print(l6) \n",
    "#Comprehension\n",
    "print(\"Comprehension\")\n",
    "print(list((j,i) for i in range(1,4) for j in range(1,4)))"
   ]
  },
  {
   "cell_type": "markdown",
   "metadata": {},
   "source": [
    "## 3. Implement a function longestWord() that takes a list of words and returns the longest one."
   ]
  },
  {
   "cell_type": "code",
   "execution_count": 64,
   "metadata": {},
   "outputs": [
    {
     "name": "stdout",
     "output_type": "stream",
     "text": [
      "Longest Word in List l is: sadsadsadsa\n"
     ]
    }
   ],
   "source": [
    "def longestWord(l):\n",
    "    length_l=[]\n",
    "    for item in l:\n",
    "        length_l.append(len(item))\n",
    "    i=length_l.index((max(length_l)))\n",
    "    print(\"Longest Word in List l is:\",l[i])\n",
    "\n",
    "l=['aman', 'kumar',\"x\",'sadsadsadsa']\n",
    "longestWord(l)\n",
    "\n",
    "        \n",
    "        "
   ]
  }
 ],
 "metadata": {
  "kernelspec": {
   "display_name": "Python 3",
   "language": "python",
   "name": "python3"
  },
  "language_info": {
   "codemirror_mode": {
    "name": "ipython",
    "version": 3
   },
   "file_extension": ".py",
   "mimetype": "text/x-python",
   "name": "python",
   "nbconvert_exporter": "python",
   "pygments_lexer": "ipython3",
   "version": "3.7.0"
  }
 },
 "nbformat": 4,
 "nbformat_minor": 2
}
