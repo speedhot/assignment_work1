{
 "cells": [
  {
   "cell_type": "markdown",
   "metadata": {},
   "source": [
    "## 1.1 Write a Python Program(with class concepts) to find the area of the triangle using the below formula.\n",
    "area = (s*(s-a)*(s-b)*(s-c)) ** 0.5"
   ]
  },
  {
   "cell_type": "code",
   "execution_count": 19,
   "metadata": {},
   "outputs": [
    {
     "name": "stdout",
     "output_type": "stream",
     "text": [
      "Enter 3 Sides of Triangle:\n",
      "12\n",
      "23\n",
      "12\n",
      "Area = -772.3086419753084\n"
     ]
    }
   ],
   "source": [
    "#solution 1\n",
    "class tri_area(object):\n",
    "    \n",
    "    def take_value(self):\n",
    "        print(\"Enter 3 Sides of Triangle:\")\n",
    "        a=float(input())\n",
    "        b=float(input())\n",
    "        c=float(input()) \n",
    "        self.calculate_area(a,b,c)\n",
    "    def calculate_area(self,a,b,c):\n",
    "        s=(a+b+c)/3\n",
    "        area=(s*(s-a)*(s-b)*(s-c))*0.5\n",
    "        print(\"Area =\", area)\n",
    "obj=tri_area()\n",
    "obj.take_value()\n",
    "\n"
   ]
  },
  {
   "cell_type": "code",
   "execution_count": 31,
   "metadata": {},
   "outputs": [
    {
     "name": "stdout",
     "output_type": "stream",
     "text": [
      "Enter 3 Sides of Triangle:\n",
      "2\n",
      "3\n",
      "4\n",
      "-0.0\n"
     ]
    }
   ],
   "source": [
    "#solution 2\n",
    "class tri_area(object):\n",
    "    def __init__(self):\n",
    "        self.take_value()\n",
    "    def take_value(self):\n",
    "        print(\"Enter 3 Sides of Triangle:\")\n",
    "        a=float(input())\n",
    "        b=float(input())\n",
    "        c=float(input()) \n",
    "        self.calculate_area(a,b,c)\n",
    "    def calculate_area(self,a,b,c):\n",
    "        s=(a+b+c)/3\n",
    "        area=(s*(s-a)*(s-b)*(s-c))*0.5\n",
    "        print(area)\n",
    "obj=tri_area()\n"
   ]
  },
  {
   "cell_type": "markdown",
   "metadata": {},
   "source": [
    "## 1.2 Write a function filter_long_words() that takes a list of words and an integer n and returns the list of words that are longer than n."
   ]
  },
  {
   "cell_type": "code",
   "execution_count": 36,
   "metadata": {},
   "outputs": [
    {
     "data": {
      "text/plain": [
       "['dsfsfdsf']"
      ]
     },
     "execution_count": 36,
     "metadata": {},
     "output_type": "execute_result"
    }
   ],
   "source": [
    "class long_filter(object):\n",
    "    def filter_long_words(self,l,n):\n",
    "        out=[]\n",
    "        self.n=n\n",
    "        for item in l:\n",
    "            if len(item)>n:\n",
    "                out.append(item)\n",
    "        return out\n",
    "            \n",
    "l=['aman','kumar','dsfsfdsf']\n",
    "n=5\n",
    "obj=long_filter()\n",
    "obj.filter_long_words(l,n)\n",
    "        "
   ]
  },
  {
   "cell_type": "markdown",
   "metadata": {},
   "source": [
    "## 2.1 Write a Python program using function concept that maps list of words into a list of integers representing the lengths of the corresponding words ."
   ]
  },
  {
   "cell_type": "code",
   "execution_count": 58,
   "metadata": {},
   "outputs": [
    {
     "name": "stdout",
     "output_type": "stream",
     "text": [
      "[4, 5, 8]\n"
     ]
    },
    {
     "data": {
      "text/plain": [
       "[4, 5, 8]"
      ]
     },
     "execution_count": 58,
     "metadata": {},
     "output_type": "execute_result"
    }
   ],
   "source": [
    "class findLengthList:\n",
    "    def find_length(self,l):\n",
    "        l8=[]\n",
    "        for item in l:\n",
    "            l8.append(len(item))\n",
    "        return l8\n",
    "l=['aman','kumar','dsfsfdsf']\n",
    "obj=findLengthList()\n",
    "print(list(obj.find_length(l)))\n",
    "\n",
    "\n",
    "\n",
    "\n",
    "\n",
    "#\n",
    "def find_length(l):\n",
    "        l6=[]\n",
    "        for item in l:\n",
    "             l6.append(len(item))\n",
    "        return l6\n",
    "find_length(l)\n",
    "#print(list(map(find_length, l)))\n"
   ]
  },
  {
   "cell_type": "markdown",
   "metadata": {},
   "source": [
    "## 2.2 Write a Python function which takes a character (i.e. a string of length 1) and returns True if it is a vowel, False otherwise."
   ]
  },
  {
   "cell_type": "code",
   "execution_count": 75,
   "metadata": {},
   "outputs": [
    {
     "name": "stdout",
     "output_type": "stream",
     "text": [
      "s\n",
      "False\n"
     ]
    }
   ],
   "source": [
    "class testCharVowel:\n",
    "    def __init__(self):\n",
    "        self.ch=input()\n",
    "    def testChar(self,v_list):\n",
    "        if not self.ch in v_list:\n",
    "            return False\n",
    "        else:\n",
    "            return True\n",
    "obj=testCharVowel()\n",
    "v_list=['a','e','i','o','u']\n",
    "print(obj.testChar(v_list))\n"
   ]
  },
  {
   "cell_type": "code",
   "execution_count": 93,
   "metadata": {},
   "outputs": [
    {
     "name": "stdout",
     "output_type": "stream",
     "text": [
      "m\n",
      "a\n",
      "[False, True]\n"
     ]
    }
   ],
   "source": [
    "#solution with map()\n",
    "\n",
    "def testChar(l1):\n",
    "    v_list=['a','e','i','o','u']\n",
    "    for item in l1:\n",
    "        print(item)\n",
    "        if item in v_list:\n",
    "            return True\n",
    "        else:\n",
    "            return False\n",
    "        \n",
    "\n",
    "\n",
    "l1=['m','a']\n",
    "print(list(map(testChar,l1)))"
   ]
  },
  {
   "cell_type": "code",
   "execution_count": 95,
   "metadata": {},
   "outputs": [
    {
     "name": "stdout",
     "output_type": "stream",
     "text": [
      "[False, True]\n"
     ]
    }
   ],
   "source": [
    "#solution with map()\n",
    "\n",
    "def testChar(l1):\n",
    "    v_list=['a','e','i','o','u']\n",
    "    if l1 in v_list:\n",
    "        return True\n",
    "    else:\n",
    "        return False\n",
    "        \n",
    "\n",
    "\n",
    "l1=['m','a']\n",
    "print(list(map(testChar,l1)))"
   ]
  },
  {
   "cell_type": "code",
   "execution_count": 105,
   "metadata": {},
   "outputs": [
    {
     "name": "stdout",
     "output_type": "stream",
     "text": [
      "[False, True, False, True]\n"
     ]
    }
   ],
   "source": [
    "#map() using class\n",
    "class testCharVowel:\n",
    "    def testChar(self,l1):\n",
    "        v_list=['a','e','i','o','u']\n",
    "        if l1 in v_list:\n",
    "            return True\n",
    "        else:\n",
    "            return False\n",
    "obj=testCharVowel()\n",
    "l1=['m','a','c','u']\n",
    "print(list(map(obj.testChar, l1)))"
   ]
  }
 ],
 "metadata": {
  "kernelspec": {
   "display_name": "Python 3",
   "language": "python",
   "name": "python3"
  },
  "language_info": {
   "codemirror_mode": {
    "name": "ipython",
    "version": 3
   },
   "file_extension": ".py",
   "mimetype": "text/x-python",
   "name": "python",
   "nbconvert_exporter": "python",
   "pygments_lexer": "ipython3",
   "version": "3.7.0"
  }
 },
 "nbformat": 4,
 "nbformat_minor": 2
}
